{
 "cells": [
  {
   "cell_type": "code",
   "execution_count": 2,
   "metadata": {},
   "outputs": [],
   "source": [
    "import pandas as pd"
   ]
  },
  {
   "cell_type": "code",
   "execution_count": 3,
   "metadata": {},
   "outputs": [
    {
     "data": {
      "text/html": [
       "<div>\n",
       "<style scoped>\n",
       "    .dataframe tbody tr th:only-of-type {\n",
       "        vertical-align: middle;\n",
       "    }\n",
       "\n",
       "    .dataframe tbody tr th {\n",
       "        vertical-align: top;\n",
       "    }\n",
       "\n",
       "    .dataframe thead th {\n",
       "        text-align: right;\n",
       "    }\n",
       "</style>\n",
       "<table border=\"1\" class=\"dataframe\">\n",
       "  <thead>\n",
       "    <tr style=\"text-align: right;\">\n",
       "      <th></th>\n",
       "      <th>Unnamed: 0</th>\n",
       "      <th>Time</th>\n",
       "      <th>Depth</th>\n",
       "      <th>Distance to Epicenter</th>\n",
       "      <th>Root Mean Square</th>\n",
       "      <th>Azimuthal Gap</th>\n",
       "      <th>Magnitude</th>\n",
       "      <th>Waveform</th>\n",
       "    </tr>\n",
       "  </thead>\n",
       "  <tbody>\n",
       "    <tr>\n",
       "      <th>0</th>\n",
       "      <td>0</td>\n",
       "      <td>1293839079230</td>\n",
       "      <td>2.940</td>\n",
       "      <td>0.02489</td>\n",
       "      <td>0.07</td>\n",
       "      <td>91.0</td>\n",
       "      <td>2.30</td>\n",
       "      <td>md</td>\n",
       "    </tr>\n",
       "    <tr>\n",
       "      <th>1</th>\n",
       "      <td>1</td>\n",
       "      <td>1293839033528</td>\n",
       "      <td>9.200</td>\n",
       "      <td>0.03063</td>\n",
       "      <td>0.68</td>\n",
       "      <td>189.0</td>\n",
       "      <td>0.40</td>\n",
       "      <td>ml</td>\n",
       "    </tr>\n",
       "    <tr>\n",
       "      <th>2</th>\n",
       "      <td>2</td>\n",
       "      <td>1293838868610</td>\n",
       "      <td>2.333</td>\n",
       "      <td>0.04028</td>\n",
       "      <td>0.00</td>\n",
       "      <td>110.0</td>\n",
       "      <td>0.39</td>\n",
       "      <td>md</td>\n",
       "    </tr>\n",
       "    <tr>\n",
       "      <th>3</th>\n",
       "      <td>3</td>\n",
       "      <td>1293838654778</td>\n",
       "      <td>8.000</td>\n",
       "      <td>0.01968</td>\n",
       "      <td>0.41</td>\n",
       "      <td>133.0</td>\n",
       "      <td>1.20</td>\n",
       "      <td>ml</td>\n",
       "    </tr>\n",
       "    <tr>\n",
       "      <th>4</th>\n",
       "      <td>4</td>\n",
       "      <td>1293837956700</td>\n",
       "      <td>10.806</td>\n",
       "      <td>0.21830</td>\n",
       "      <td>0.08</td>\n",
       "      <td>244.0</td>\n",
       "      <td>0.56</td>\n",
       "      <td>ml</td>\n",
       "    </tr>\n",
       "    <tr>\n",
       "      <th>5</th>\n",
       "      <td>5</td>\n",
       "      <td>1293837863992</td>\n",
       "      <td>14.600</td>\n",
       "      <td>0.02714</td>\n",
       "      <td>0.46</td>\n",
       "      <td>114.7</td>\n",
       "      <td>1.80</td>\n",
       "      <td>ml</td>\n",
       "    </tr>\n",
       "    <tr>\n",
       "      <th>6</th>\n",
       "      <td>6</td>\n",
       "      <td>1293837843700</td>\n",
       "      <td>3.480</td>\n",
       "      <td>0.01351</td>\n",
       "      <td>0.12</td>\n",
       "      <td>132.0</td>\n",
       "      <td>1.05</td>\n",
       "      <td>ml</td>\n",
       "    </tr>\n",
       "    <tr>\n",
       "      <th>7</th>\n",
       "      <td>7</td>\n",
       "      <td>1293837718960</td>\n",
       "      <td>3.524</td>\n",
       "      <td>0.09168</td>\n",
       "      <td>0.15</td>\n",
       "      <td>115.0</td>\n",
       "      <td>2.13</td>\n",
       "      <td>ml</td>\n",
       "    </tr>\n",
       "    <tr>\n",
       "      <th>8</th>\n",
       "      <td>8</td>\n",
       "      <td>1293837492650</td>\n",
       "      <td>10.000</td>\n",
       "      <td>0.03389</td>\n",
       "      <td>0.41</td>\n",
       "      <td>216.0</td>\n",
       "      <td>4.10</td>\n",
       "      <td>mb</td>\n",
       "    </tr>\n",
       "    <tr>\n",
       "      <th>9</th>\n",
       "      <td>9</td>\n",
       "      <td>1293837392640</td>\n",
       "      <td>6.976</td>\n",
       "      <td>0.01261</td>\n",
       "      <td>0.05</td>\n",
       "      <td>35.0</td>\n",
       "      <td>0.36</td>\n",
       "      <td>ml</td>\n",
       "    </tr>\n",
       "  </tbody>\n",
       "</table>\n",
       "</div>"
      ],
      "text/plain": [
       "   Unnamed: 0           Time   Depth  Distance to Epicenter  Root Mean Square  \\\n",
       "0           0  1293839079230   2.940                0.02489              0.07   \n",
       "1           1  1293839033528   9.200                0.03063              0.68   \n",
       "2           2  1293838868610   2.333                0.04028              0.00   \n",
       "3           3  1293838654778   8.000                0.01968              0.41   \n",
       "4           4  1293837956700  10.806                0.21830              0.08   \n",
       "5           5  1293837863992  14.600                0.02714              0.46   \n",
       "6           6  1293837843700   3.480                0.01351              0.12   \n",
       "7           7  1293837718960   3.524                0.09168              0.15   \n",
       "8           8  1293837492650  10.000                0.03389              0.41   \n",
       "9           9  1293837392640   6.976                0.01261              0.05   \n",
       "\n",
       "   Azimuthal Gap  Magnitude Waveform  \n",
       "0           91.0       2.30       md  \n",
       "1          189.0       0.40       ml  \n",
       "2          110.0       0.39       md  \n",
       "3          133.0       1.20       ml  \n",
       "4          244.0       0.56       ml  \n",
       "5          114.7       1.80       ml  \n",
       "6          132.0       1.05       ml  \n",
       "7          115.0       2.13       ml  \n",
       "8          216.0       4.10       mb  \n",
       "9           35.0       0.36       ml  "
      ]
     },
     "execution_count": 3,
     "metadata": {},
     "output_type": "execute_result"
    }
   ],
   "source": [
    "trainerDf=pd.read_csv(\"trainer.csv\")\n",
    "trainerDf.head(10)"
   ]
  },
  {
   "cell_type": "code",
   "execution_count": 9,
   "metadata": {},
   "outputs": [
    {
     "name": "stdout",
     "output_type": "stream",
     "text": [
      "Magnitude Min:-9.99 Max: 8.6\n",
      "Depth  Min:-3.4 Max: 645.3\n",
      "Distance to Epicenter  Min:0.0 Max: 64.498\n",
      "Azimuthal Gap  Min:8.7 Max: 360.0\n",
      "Root Mean Square Min:0.0 Max: 13.9\n"
     ]
    }
   ],
   "source": [
    "print(f\"Magnitude Min:{trainerDf['Magnitude'].min()} Max: {trainerDf['Magnitude'].max()}\")\n",
    "print(f\"Depth  Min:{trainerDf['Depth'].min()} Max: {trainerDf['Depth'].max()}\")\n",
    "print(f\"Distance to Epicenter  Min:{trainerDf['Distance to Epicenter'].min()} Max: {trainerDf['Distance to Epicenter'].max()}\")\n",
    "print(f\"Azimuthal Gap  Min:{trainerDf['Azimuthal Gap'].min()} Max: {trainerDf['Azimuthal Gap'].max()}\")\n",
    "print(f\"Root Mean Square Min:{trainerDf['Root Mean Square'].min()} Max: {trainerDf['Root Mean Square'].max()}\")"
   ]
  },
  {
   "cell_type": "code",
   "execution_count": 11,
   "metadata": {},
   "outputs": [
    {
     "data": {
      "text/plain": [
       "0    0.98\n",
       "dtype: float64"
      ]
     },
     "execution_count": 11,
     "metadata": {},
     "output_type": "execute_result"
    }
   ],
   "source": [
    "trainerDf['Root Mean Square'].mode()"
   ]
  },
  {
   "cell_type": "code",
   "execution_count": 6,
   "metadata": {},
   "outputs": [
    {
     "name": "stdout",
     "output_type": "stream",
     "text": [
      "Depth  Min:-3.4 Max: 645.3\n"
     ]
    }
   ],
   "source": []
  },
  {
   "cell_type": "code",
   "execution_count": 7,
   "metadata": {},
   "outputs": [
    {
     "name": "stdout",
     "output_type": "stream",
     "text": [
      "Distance to Epicenter  Min:0.0 Max: 64.498\n"
     ]
    }
   ],
   "source": []
  },
  {
   "cell_type": "code",
   "execution_count": 8,
   "metadata": {},
   "outputs": [
    {
     "name": "stdout",
     "output_type": "stream",
     "text": [
      "Magnitude Min:-9.99 Max: 8.6\n"
     ]
    }
   ],
   "source": []
  },
  {
   "cell_type": "code",
   "execution_count": null,
   "metadata": {},
   "outputs": [],
   "source": []
  }
 ],
 "metadata": {
  "kernelspec": {
   "display_name": "Python 3",
   "language": "python",
   "name": "python3"
  },
  "language_info": {
   "codemirror_mode": {
    "name": "ipython",
    "version": 3
   },
   "file_extension": ".py",
   "mimetype": "text/x-python",
   "name": "python",
   "nbconvert_exporter": "python",
   "pygments_lexer": "ipython3",
   "version": "3.8.5"
  }
 },
 "nbformat": 4,
 "nbformat_minor": 4
}
