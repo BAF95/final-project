{
 "cells": [
  {
   "cell_type": "code",
   "execution_count": 2,
   "metadata": {},
   "outputs": [],
   "source": [
    "import pandas as pd\n",
    "import numpy as np\n",
    "import os"
   ]
  },
  {
   "cell_type": "code",
   "execution_count": 25,
   "metadata": {},
   "outputs": [
    {
     "data": {
      "text/html": [
       "<div>\n",
       "<style scoped>\n",
       "    .dataframe tbody tr th:only-of-type {\n",
       "        vertical-align: middle;\n",
       "    }\n",
       "\n",
       "    .dataframe tbody tr th {\n",
       "        vertical-align: top;\n",
       "    }\n",
       "\n",
       "    .dataframe thead th {\n",
       "        text-align: right;\n",
       "    }\n",
       "</style>\n",
       "<table border=\"1\" class=\"dataframe\">\n",
       "  <thead>\n",
       "    <tr style=\"text-align: right;\">\n",
       "      <th></th>\n",
       "      <th>Total Damaging Events</th>\n",
       "      <th>Rate of Damaging Events</th>\n",
       "      <th>Frequncy of Section</th>\n",
       "      <th>Reccurance Interval</th>\n",
       "      <th>Are of Section</th>\n",
       "    </tr>\n",
       "  </thead>\n",
       "  <tbody>\n",
       "  </tbody>\n",
       "</table>\n",
       "</div>"
      ],
      "text/plain": [
       "Empty DataFrame\n",
       "Columns: [Total Damaging Events, Rate of Damaging Events, Frequncy of Section, Reccurance Interval, Are of Section]\n",
       "Index: []"
      ]
     },
     "execution_count": 25,
     "metadata": {},
     "output_type": "execute_result"
    }
   ],
   "source": [
    "countyDf=pd.DataFrame(columns=['Total Damaging Events','Rate of Damaging Events','Frequncy of Section','Reccurance Interval','Are of Section'])\n",
    "countyDf"
   ]
  },
  {
   "cell_type": "code",
   "execution_count": 6,
   "metadata": {},
   "outputs": [],
   "source": [
    "folder= \"../data/key_stats_data/\"\n",
    "data = pd.read_csv(\"../data/key_stats_data/\")\n",
    "pd.read_csv(\"../data/key_stats_data/Butte_County.csv\")\n",
    "\n",
    "# data=data.T\n",
    "# data"
   ]
  },
  {
   "cell_type": "code",
   "execution_count": 49,
   "metadata": {},
   "outputs": [
    {
     "name": "stdout",
     "output_type": "stream",
     "text": [
      "../data/key_stats_data/Calaveras_County\n"
     ]
    },
    {
     "data": {
      "text/html": [
       "<div>\n",
       "<style scoped>\n",
       "    .dataframe tbody tr th:only-of-type {\n",
       "        vertical-align: middle;\n",
       "    }\n",
       "\n",
       "    .dataframe tbody tr th {\n",
       "        vertical-align: top;\n",
       "    }\n",
       "\n",
       "    .dataframe thead th {\n",
       "        text-align: right;\n",
       "    }\n",
       "</style>\n",
       "<table border=\"1\" class=\"dataframe\">\n",
       "  <thead>\n",
       "    <tr style=\"text-align: right;\">\n",
       "      <th>Unnamed: 0</th>\n",
       "      <th>Total Damaging Events</th>\n",
       "      <th>Rate of Damaging Events</th>\n",
       "      <th>Frequncy of Section</th>\n",
       "      <th>Reccurance Interval</th>\n",
       "      <th>Are of Section</th>\n",
       "    </tr>\n",
       "  </thead>\n",
       "  <tbody>\n",
       "    <tr>\n",
       "      <th>0</th>\n",
       "      <td>28</td>\n",
       "      <td>5.6</td>\n",
       "      <td>156.8</td>\n",
       "      <td>0.00637755</td>\n",
       "      <td>3642</td>\n",
       "    </tr>\n",
       "  </tbody>\n",
       "</table>\n",
       "</div>"
      ],
      "text/plain": [
       "Unnamed: 0 Total Damaging Events Rate of Damaging Events Frequncy of Section  \\\n",
       "0                             28                     5.6               156.8   \n",
       "\n",
       "Unnamed: 0 Reccurance Interval Are of Section  \n",
       "0                   0.00637755           3642  "
      ]
     },
     "execution_count": 49,
     "metadata": {},
     "output_type": "execute_result"
    }
   ],
   "source": [
    "countyList=[]\n",
    "for file in os.listdir(folder):\n",
    "    print(f\"{folder}{file}\")\n",
    "    \n",
    "    data=pd.read_csv(f\"{folder}{file}\")\n",
    "    data=data.T\n",
    "    data.columns=data.iloc[0]\n",
    "    data=data.iloc[1:]\n",
    "    countyList.append(file)\n",
    "#     pd.concat([countyDf, data])\n",
    "    break\n",
    "\n",
    "data"
   ]
  },
  {
   "cell_type": "code",
   "execution_count": null,
   "metadata": {},
   "outputs": [],
   "source": []
  }
 ],
 "metadata": {
  "kernelspec": {
   "display_name": "Python 3",
   "language": "python",
   "name": "python3"
  },
  "language_info": {
   "codemirror_mode": {
    "name": "ipython",
    "version": 3
   },
   "file_extension": ".py",
   "mimetype": "text/x-python",
   "name": "python",
   "nbconvert_exporter": "python",
   "pygments_lexer": "ipython3",
   "version": "3.8.5"
  }
 },
 "nbformat": 4,
 "nbformat_minor": 4
}
